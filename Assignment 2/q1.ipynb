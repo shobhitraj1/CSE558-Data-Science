{
 "cells": [
  {
   "cell_type": "code",
   "execution_count": 6,
   "metadata": {},
   "outputs": [],
   "source": [
    "import random\n",
    "import hashlib\n",
    "import matplotlib.pyplot as plt\n",
    "\n",
    "random.seed(2022273+2022482)"
   ]
  },
  {
   "cell_type": "code",
   "execution_count": 7,
   "metadata": {},
   "outputs": [],
   "source": [
    "class HashTable:\n",
    "    def __init__(self, m, type=\"universal\"):\n",
    "        self.m = m\n",
    "        self.A = [[] for _ in range(m)]\n",
    "\n",
    "        if type == \"universal\":\n",
    "            p = 524287\n",
    "            a = random.randint(1, p-1)\n",
    "            self.hash_func = lambda x: ((a*x) % p) % m \n",
    "\n",
    "        elif type == \"random\":\n",
    "            self.hash_func = lambda x: int(m * random.random())\n",
    "\n",
    "    def add(self, x):\n",
    "        self.A[self.hash_func(x)].append(x)\n",
    "        return self.hash_func(x)\n",
    "    \n",
    "    def get_max_len(self):\n",
    "        return max([len(i) for i in self.A])\n",
    "    \n",
    "    def get_min_len(self):\n",
    "        return min([len(i) for i in self.A])\n",
    "\n",
    "def md5(s):\n",
    "    return int(hashlib.md5(s.encode()).hexdigest()[-4:], 16)"
   ]
  },
  {
   "cell_type": "code",
   "execution_count": 8,
   "metadata": {},
   "outputs": [],
   "source": [
    "words_hashes = []\n",
    "\n",
    "with open(\"words.txt\") as f:\n",
    "    for i in f:\n",
    "        words_hashes.append(md5(i.rstrip(\"\\n\")))\n",
    "\n",
    "with open(\"word_hashes.txt\", \"w\") as f:\n",
    "    f.write(\"\\n\".join(map(str, words_hashes)))"
   ]
  },
  {
   "cell_type": "code",
   "execution_count": 9,
   "metadata": {},
   "outputs": [
    {
     "data": {
      "image/png": "[encoded data removed]",
      "text/plain": [
       "<Figure size 640x480 with 1 Axes>"
      ]
     },
     "metadata": {},
     "output_type": "display_data"
    }
   ],
   "source": [
    "m = 500000\n",
    "\n",
    "h1_mins = []\n",
    "h1_maxs = []\n",
    "h2_mins = []\n",
    "h2_maxs = []\n",
    "\n",
    "for _ in range(5):\n",
    "    h1 = HashTable(m, \"universal\")\n",
    "    h2 = HashTable(m, \"random\")\n",
    "\n",
    "    for i in range(1, m+1):\n",
    "        h1.add(i)\n",
    "        h2.add(i)\n",
    "\n",
    "    h1_mins.append(h1.get_min_len())\n",
    "    h1_maxs.append(h1.get_max_len())\n",
    "    h2_mins.append(h2.get_min_len())\n",
    "    h2_maxs.append(h2.get_max_len())\n",
    "\n",
    "fig, ax = plt.subplots()\n",
    "bar_width = 0.2\n",
    "index = list(range(1, 6))\n",
    "\n",
    "rects1 = ax.bar([i - 1.5*bar_width for i in index], h1_mins, bar_width, label='h1 min')\n",
    "rects2 = ax.bar([i - 0.5*bar_width for i in index], h1_maxs, bar_width, label='h1 max')\n",
    "rects3 = ax.bar([i + 0.5*bar_width for i in index], h2_mins, bar_width, label='h2 min')\n",
    "rects4 = ax.bar([i + 1.5*bar_width for i in index], h2_maxs, bar_width, label='h2 max')\n",
    "\n",
    "ax.set_xlabel('Iteration')\n",
    "ax.set_ylabel('Length')\n",
    "ax.set_title('Length of hash table')\n",
    "ax.set_xticks(index)\n",
    "ax.set_xticklabels(index)\n",
    "ax.legend()\n",
    "\n",
    "plt.show()"
   ]
  },
  {
   "cell_type": "code",
   "execution_count": 10,
   "metadata": {},
   "outputs": [
    {
     "name": "stdout",
     "output_type": "stream",
     "text": [
      "Estimated number of unique elements (1): 46340.95001184158\n",
      "Estimated number of unique elements (2): 370727.60009473265\n",
      "Estimated number of unique elements (3): 23170.47500592079\n",
      "Estimated number of unique elements (4): 46340.95001184158\n",
      "Estimated number of unique elements (5): 185363.80004736633\n",
      "Estimated number of unique elements (6): 370727.60009473265\n",
      "Estimated number of unique elements (7): 46340.95001184158\n",
      "Estimated number of unique elements (8): 370727.60009473265\n",
      "Estimated number of unique elements (9): 92681.90002368316\n",
      "Estimated number of unique elements (10): 92681.90002368316\n",
      "Average: 164510.3725420376\n"
     ]
    }
   ],
   "source": [
    "def flajolet_martin(hashes):\n",
    "    m = 500000\n",
    "    word_hashtable = HashTable(m, \"universal\")\n",
    "\n",
    "    z = 0\n",
    "    for i in hashes:\n",
    "        hash_value = bin(word_hashtable.add(i))\n",
    "        if hash_value == \"0b0\":\n",
    "            z = max(z, 1)\n",
    "            continue\n",
    "        for idx, digit in enumerate(str(hash_value)[::-1]):\n",
    "            if digit == \"1\":\n",
    "                break\n",
    "        z = max(z, idx)\n",
    "\n",
    "    return 2 ** (z + (1/2))\n",
    "\n",
    "elements = []\n",
    "for i in range(10):\n",
    "    elements.append(flajolet_martin(words_hashes))\n",
    "    print(f\"Estimated number of unique elements ({i+1}): {elements[-1]}\")\n",
    "\n",
    "print(f\"Average: {sum(elements)/len(elements)}\")"
   ]
  }
 ],
 "metadata": {
  "kernelspec": {
   "display_name": "Python 3",
   "language": "python",
   "name": "python3"
  },
  "language_info": {
   "codemirror_mode": {
    "name": "ipython",
    "version": 3
   },
   "file_extension": ".py",
   "mimetype": "text/x-python",
   "name": "python",
   "nbconvert_exporter": "python",
   "pygments_lexer": "ipython3",
   "version": "3.10.11"
  }
 },
 "nbformat": 4,
 "nbformat_minor": 2
}
